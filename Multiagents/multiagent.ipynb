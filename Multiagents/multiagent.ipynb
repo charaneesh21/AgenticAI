{
 "cells": [
  {
   "cell_type": "code",
   "execution_count": 1,
   "id": "f434f61e",
   "metadata": {},
   "outputs": [],
   "source": [
    "import os\n",
    "from typing import TypedDict, Annotated, List, Literal\n",
    "from langchain_core.messages import BaseMessage, HumanMessage, AIMessage, SystemMessage\n",
    "from langchain_groq import ChatGroq\n",
    "from langchain_core.tools import tool\n",
    "from langchain_community.tools.tavily_search import TavilySearchResults\n",
    "from langgraph.graph import StateGraph, END\n",
    "from langgraph.prebuilt import create_react_agent\n",
    "from langgraph.checkpoint.memory import MemorySaver"
   ]
  },
  {
   "cell_type": "code",
   "execution_count": 2,
   "id": "ee2c170c",
   "metadata": {},
   "outputs": [],
   "source": [
    "import os\n",
    "from dotenv import load_dotenv\n",
    "load_dotenv()\n",
    "\n",
    "os.environ[\"GROQ_API_KEY\"]=os.getenv(\"GROQ_API_KEY\")"
   ]
  },
  {
   "cell_type": "code",
   "execution_count": 3,
   "id": "8da308b2",
   "metadata": {},
   "outputs": [],
   "source": [
    "from langgraph.graph import StateGraph, END, MessagesState\n",
    "from langgraph.prebuilt import ToolNode\n",
    "from langgraph.checkpoint.memory import MemorySaver"
   ]
  },
  {
   "cell_type": "code",
   "execution_count": 4,
   "id": "90dd27e3",
   "metadata": {},
   "outputs": [],
   "source": [
    "## Define the state\n",
    "class AgentState(MessagesState):\n",
    "    next_agent:str"
   ]
  },
  {
   "cell_type": "code",
   "execution_count": 5,
   "id": "717268b3",
   "metadata": {},
   "outputs": [],
   "source": [
    "# Create simple tools\n",
    "@tool\n",
    "def search_web(query: str) -> str:\n",
    "    \"\"\"Search the web for information.\"\"\"\n",
    "    # Using Tavily for web search\n",
    "    search = TavilySearchResults(max_results=3)\n",
    "    results = search.invoke(query)\n",
    "    return str(results)\n",
    "\n",
    "@tool\n",
    "def write_summary(content: str) -> str:\n",
    "    \"\"\"Write a summary of the provided content.\"\"\"\n",
    "    # Simple summary generation\n",
    "    summary = f\"Summary of findings:\\n\\n{content[:500]}...\"\n",
    "    return summary"
   ]
  },
  {
   "cell_type": "code",
   "execution_count": 6,
   "id": "b088da06",
   "metadata": {},
   "outputs": [
    {
     "data": {
      "text/plain": [
       "ChatGroq(client=<groq.resources.chat.completions.Completions object at 0x109e44590>, async_client=<groq.resources.chat.completions.AsyncCompletions object at 0x109e45160>, model_name='llama-3.1-8b-instant', model_kwargs={}, groq_api_key=SecretStr('**********'))"
      ]
     },
     "execution_count": 6,
     "metadata": {},
     "output_type": "execute_result"
    }
   ],
   "source": [
    "from langchain.chat_models import init_chat_model\n",
    "\n",
    "llm=init_chat_model(\"groq:llama-3.1-8b-instant\")\n",
    "llm"
   ]
  },
  {
   "cell_type": "code",
   "execution_count": 7,
   "id": "9afd1073",
   "metadata": {},
   "outputs": [],
   "source": [
    "# Define agent functions (simpler approach)\n",
    "def researcher_agent(state: AgentState):\n",
    "    \"\"\"Researcher agent that searches for information\"\"\"\n",
    "    \n",
    "    messages = state[\"messages\"]\n",
    "    \n",
    "    # Add system message for context\n",
    "    system_msg = SystemMessage(content=\"You are a research assistant. Use the search_web tool to find information about the user's request.\")\n",
    "    \n",
    "    # Call LLM with tools\n",
    "    researcher_llm = llm.bind_tools([search_web])\n",
    "    response = researcher_llm.invoke([system_msg] + messages)\n",
    "    \n",
    "    # Return the response and route to writer\n",
    "    return {\n",
    "        \"messages\": [response],\n",
    "        \"next_agent\": \"writer\"\n",
    "    }"
   ]
  },
  {
   "cell_type": "code",
   "execution_count": 8,
   "id": "0c252994",
   "metadata": {},
   "outputs": [],
   "source": [
    "def writer_agent(state: AgentState):\n",
    "    \"\"\"Writer agent that creates summaries\"\"\"\n",
    "    \n",
    "    messages = state[\"messages\"]\n",
    "    \n",
    "    # Add system message\n",
    "    system_msg = SystemMessage(content=\"You are a technical writer. Review the conversation and create a clear, concise summary of the findings.\")\n",
    "    \n",
    "    # Simple completion without tools\n",
    "    response = llm.invoke([system_msg] + messages)\n",
    "    \n",
    "    return {\n",
    "        \"messages\": [response],\n",
    "        \"next_agent\": \"end\"\n",
    "    }"
   ]
  },
  {
   "cell_type": "code",
   "execution_count": 9,
   "id": "1b5ca8cb",
   "metadata": {},
   "outputs": [],
   "source": [
    "# Tool executor node\n",
    "def execute_tools(state: AgentState):\n",
    "    \"\"\"Execute any pending tool calls\"\"\"\n",
    "    messages = state[\"messages\"]\n",
    "    last_message = messages[-1]\n",
    "    \n",
    "    # Check if there are tool calls to execute\n",
    "    if hasattr(last_message, \"tool_calls\") and last_message.tool_calls:\n",
    "        # Create tool node and execute\n",
    "        tool_node = ToolNode([search_web, write_summary])\n",
    "        response = tool_node.invoke(state)\n",
    "        return response\n",
    "    \n",
    "    # No tools to execute\n",
    "    return state"
   ]
  },
  {
   "cell_type": "code",
   "execution_count": 10,
   "id": "0e26a9e9",
   "metadata": {},
   "outputs": [
    {
     "data": {
      "image/png": "[encoded data removed]",
      "text/plain": [
       "<langgraph.graph.state.CompiledStateGraph object at 0x109e463c0>"
      ]
     },
     "execution_count": 10,
     "metadata": {},
     "output_type": "execute_result"
    }
   ],
   "source": [
    "# Build graph\n",
    "workflow = StateGraph(MessagesState)\n",
    "\n",
    "# Add nodes\n",
    "workflow.add_node(\"researcher\", researcher_agent)\n",
    "workflow.add_node(\"writer\", writer_agent)\n",
    "\n",
    "# Define flow\n",
    "workflow.set_entry_point(\"researcher\")\n",
    "workflow.add_edge(\"researcher\", \"writer\")\n",
    "workflow.add_edge(\"writer\", END)\n",
    "final_workflow=workflow.compile()\n",
    "\n",
    "final_workflow"
   ]
  },
  {
   "cell_type": "code",
   "execution_count": 11,
   "id": "6337f2b9",
   "metadata": {},
   "outputs": [
    {
     "data": {
      "text/plain": [
       "\" \\n\\nAfter reviewing various sources, I've compiled a summary of the key findings on the use cases of agentic AI in business:\\n\\n**Overview**\\n\\nAgentic AI refers to artificial intelligence (AI) systems that can act on behalf of humans, making decisions and taking actions autonomously. In a business context, agentic AI can be used to automate tasks, improve efficiency, and enhance decision-making.\\n\\n**Common Use Cases**\\n\\n1. **Process Automation**: Agentic AI can automate repetitive and time-consuming tasks, freeing up human resources for more strategic and creative work. Examples include:\\n\\t* Data entry and processing\\n\\t* Bookkeeping and accounting\\n\\t* Customer service chatbots\\n2. **Predictive Maintenance**: Agentic AI can analyze data from sensors and equipment to predict when maintenance is required, reducing downtime and increasing overall efficiency.\\n3. **Marketing and Sales**: Agentic AI can help with lead generation, customer segmentation, and personalized marketing campaigns, improving sales outcomes and customer engagement.\\n4. **Customer Service**: Agentic AI-powered chatbots can provide 24/7 customer support, answering common questions and routing complex issues to human representatives.\\n5. **Supply Chain Optimization**: Agentic AI can analyze data from suppliers, manufacturers, and logistics providers to optimize inventory management, reduce costs, and improve delivery times.\\n\\n**Benefits**\\n\\n1. **Increased Efficiency**: Agentic AI can automate tasks, freeing up human resources for more strategic work.\\n2. **Improved Accuracy**: Agentic AI can reduce errors and improve accuracy in tasks such as data entry and predictive maintenance.\\n3. **Enhanced Decision-Making**: Agentic AI can provide data-driven insights and recommendations to support business decision-making.\\n4. **Cost Savings**: Agentic AI can reduce costs associated with manual labor, equipment maintenance, and supply chain management.\\n\\n**Challenges and Limitations**\\n\\n1. **Data Quality**: Agentic AI requires high-quality data to function effectively, which can be a challenge in many organizations.\\n2. **Explainability**: Agentic AI decisions and actions may not be transparent or explainable, which can lead to trust issues and regulatory challenges.\\n3. **Security**: Agentic AI systems can be vulnerable to cyber threats and data breaches, which can compromise business operations and reputation.\\n\\n**Conclusion**\\n\\nAgentic AI has the potential to transform business operations by automating tasks, improving efficiency, and enhancing decision-making. However, it's essential to address the challenges and limitations associated with agentic AI, including data quality, explainability, and security. By doing so, businesses can unlock the full potential of agentic AI and drive innovation and growth.\\n\\nNext steps:\\n\\n1. **Conduct a thorough analysis of business processes** to identify areas where agentic AI can add value.\\n2. **Develop a data strategy** to ensure high-quality data is available for agentic AI systems.\\n3. **Establish clear guidelines** for agentic AI decision-making and action-taking.\\n\\nThis summary provides a solid foundation for exploring the use cases of agentic AI in business. Further research and analysis are needed to fully understand the opportunities and challenges associated with this technology.\""
      ]
     },
     "execution_count": 11,
     "metadata": {},
     "output_type": "execute_result"
    }
   ],
   "source": [
    "response=final_workflow.invoke({\"messages\":\"Reasearch about the usecase of agentic ai in business\"})\n",
    "response[\"messages\"][-1].content"
   ]
  },
  {
   "cell_type": "markdown",
   "id": "390ff337",
   "metadata": {},
   "source": [
    "## supervise Multi Ai Agent Architecture"
   ]
  },
  {
   "cell_type": "code",
   "execution_count": 12,
   "id": "8ff773db",
   "metadata": {},
   "outputs": [],
   "source": [
    "from typing import TypedDict, Annotated, List, Literal, Dict, Any\n",
    "from langchain_core.messages import BaseMessage, HumanMessage, AIMessage, SystemMessage\n",
    "from langgraph.graph import StateGraph, END, MessagesState\n",
    "from langgraph.checkpoint.memory import MemorySaver\n",
    "import random\n",
    "from datetime import datetime"
   ]
  },
  {
   "cell_type": "code",
   "execution_count": 13,
   "id": "e75189bc",
   "metadata": {},
   "outputs": [],
   "source": [
    "class SupervisorState(MessagesState):\n",
    "    \"\"\"State for the multi-agent system\"\"\"\n",
    "    next_agent: str = \"\"\n",
    "    research_data: str = \"\"\n",
    "    analysis: str = \"\"\n",
    "    final_report: str = \"\"\n",
    "    task_complete: bool = False\n",
    "    current_task: str = \"\""
   ]
  },
  {
   "cell_type": "code",
   "execution_count": 14,
   "id": "03c89c22",
   "metadata": {},
   "outputs": [],
   "source": [
    "# Supervisor with Groq LLM\n",
    "\n",
    "from langchain_core.prompts import ChatPromptTemplate\n",
    "def create_supervisor_chain():\n",
    "    \"\"\"Creates the supervisor decision chain\"\"\"\n",
    "    \n",
    "    supervisor_prompt = ChatPromptTemplate.from_messages([\n",
    "        (\"system\", \"\"\"You are a supervisor managing a team of agents:\n",
    "        \n",
    "1. Researcher - Gathers information and data\n",
    "2. Analyst - Analyzes data and provides insights  \n",
    "3. Writer - Creates reports and summaries\n",
    "\n",
    "Based on the current state and conversation, decide which agent should work next.\n",
    "If the task is complete, respond with 'DONE'.\n",
    "\n",
    "Current state:\n",
    "- Has research data: {has_research}\n",
    "- Has analysis: {has_analysis}\n",
    "- Has report: {has_report}\n",
    "\n",
    "Respond with ONLY the agent name (researcher/analyst/writer) or 'DONE'.\n",
    "\"\"\"),\n",
    "        (\"human\", \"{task}\")\n",
    "    ])\n",
    "    \n",
    "    return supervisor_prompt | llm"
   ]
  },
  {
   "cell_type": "code",
   "execution_count": 15,
   "id": "7abbf9a0",
   "metadata": {},
   "outputs": [],
   "source": [
    "def supervisor_agent(state: SupervisorState) -> Dict:\n",
    "    \"\"\"Supervisor decides next agent using Groq LLM\"\"\"\n",
    "    \n",
    "    messages = state[\"messages\"]\n",
    "    task = messages[-1].content if messages else \"No task\"\n",
    "    \n",
    "    # Check what's been completed\n",
    "    has_research = bool(state.get(\"research_data\", \"\"))\n",
    "    has_analysis = bool(state.get(\"analysis\", \"\"))\n",
    "    has_report = bool(state.get(\"final_report\", \"\"))\n",
    "    \n",
    "    # Get LLM decision\n",
    "    chain = create_supervisor_chain()\n",
    "    decision = chain.invoke({\n",
    "        \"task\": task,\n",
    "        \"has_research\": has_research,\n",
    "        \"has_analysis\": has_analysis,\n",
    "        \"has_report\": has_report\n",
    "    })\n",
    "    \n",
    "    # Parse decision\n",
    "    decision_text = decision.content.strip().lower()\n",
    "    print(decision_text)\n",
    "    \n",
    "    # Determine next agent\n",
    "    if \"done\" in decision_text or has_report:\n",
    "        next_agent = \"end\"\n",
    "        supervisor_msg = \"✅ Supervisor: All tasks complete! Great work team.\"\n",
    "    elif \"researcher\" in decision_text or not has_research:\n",
    "        next_agent = \"researcher\"\n",
    "        supervisor_msg = \"📋 Supervisor: Let's start with research. Assigning to Researcher...\"\n",
    "    elif \"analyst\" in decision_text or (has_research and not has_analysis):\n",
    "        next_agent = \"analyst\"\n",
    "        supervisor_msg = \"📋 Supervisor: Research done. Time for analysis. Assigning to Analyst...\"\n",
    "    elif \"writer\" in decision_text or (has_analysis and not has_report):\n",
    "        next_agent = \"writer\"\n",
    "        supervisor_msg = \"📋 Supervisor: Analysis complete. Let's create the report. Assigning to Writer...\"\n",
    "    else:\n",
    "        next_agent = \"end\"\n",
    "        supervisor_msg = \"✅ Supervisor: Task seems complete.\"\n",
    "    \n",
    "    return {\n",
    "        \"messages\": [AIMessage(content=supervisor_msg)],\n",
    "        \"next_agent\": next_agent,\n",
    "        \"current_task\": task\n",
    "    }"
   ]
  },
  {
   "cell_type": "code",
   "execution_count": null,
   "id": "cc85fb9d",
   "metadata": {},
   "outputs": [],
   "source": [
    "# Agent 1: Researcher (using Groq)\n",
    "\n",
    "def researcher_agent(state: SupervisorState) -> Dict:\n",
    "    \"\"\"Researcher uses Groq to gather information\"\"\"\n",
    "    \n",
    "    task = state.get(\"current_task\", \"research topic\")\n",
    "    \n",
    "    # Create research prompt\n",
    "    research_prompt = f\"\"\"As a research specialist, provide comprehensive information about: {task}\n",
    "\n",
    "    Include:\n",
    "    1. Key facts and background\n",
    "    2. Current trends or developments\n",
    "    3. Important statistics or data points\n",
    "    4. Notable examples or case studies\n",
    "    \n",
    "    Be concise but thorough.\"\"\"\n",
    "    \n",
    "    # Get research from LLM\n",
    "    research_response = llm.invoke([HumanMessage(content=research_prompt)])\n",
    "    research_data = research_response.content\n",
    "    \n",
    "    # Create agent message\n",
    "    agent_message = f\"🔍 Researcher: I've completed the research on '{task}'.\\n\\nKey findings:\\n{research_data[:500]}...\"\n",
    "    \n",
    "    return {\n",
    "        \"messages\": [AIMessage(content=agent_message)],\n",
    "        \"research_data\": research_data,\n",
    "        \"next_agent\": \"supervisor\"\n",
    "    }"
   ]
  },
  {
   "cell_type": "code",
   "execution_count": 17,
   "id": "038262d2",
   "metadata": {},
   "outputs": [],
   "source": [
    "# Agent 2: Analyst (using Groq)\n",
    "\n",
    "def analyst_agent(state: SupervisorState) -> Dict:\n",
    "    \"\"\"Analyst uses Groq to analyze the research\"\"\"\n",
    "    \n",
    "    research_data = state.get(\"research_data\", \"\")\n",
    "    task = state.get(\"current_task\", \"\")\n",
    "    \n",
    "    # Create analysis prompt\n",
    "    analysis_prompt = f\"\"\"As a data analyst, analyze this research data and provide insights:\n",
    "\n",
    "Research Data:\n",
    "{research_data}\n",
    "\n",
    "Provide:\n",
    "1. Key insights and patterns\n",
    "2. Strategic implications\n",
    "3. Risks and opportunities\n",
    "4. Recommendations\n",
    "\n",
    "Focus on actionable insights related to: {task}\"\"\"\n",
    "    \n",
    "    # Get analysis from LLM\n",
    "    analysis_response = llm.invoke([HumanMessage(content=analysis_prompt)])\n",
    "    analysis = analysis_response.content\n",
    "    \n",
    "    # Create agent message\n",
    "    agent_message = f\"📊 Analyst: I've completed the analysis.\\n\\nTop insights:\\n{analysis[:400]}...\"\n",
    "    \n",
    "    return {\n",
    "        \"messages\": [AIMessage(content=agent_message)],\n",
    "        \"analysis\": analysis,\n",
    "        \"next_agent\": \"supervisor\"\n",
    "    }"
   ]
  },
  {
   "cell_type": "code",
   "execution_count": 18,
   "id": "d5d848bf",
   "metadata": {},
   "outputs": [],
   "source": [
    "# Agent 3: Writer (using Groq)\n",
    "\n",
    "def writer_agent(state: SupervisorState) -> Dict:\n",
    "    \"\"\"Writer uses Groq to create final report\"\"\"\n",
    "    \n",
    "    research_data = state.get(\"research_data\", \"\")\n",
    "    analysis = state.get(\"analysis\", \"\")\n",
    "    task = state.get(\"current_task\", \"\")\n",
    "    \n",
    "    # Create writing prompt\n",
    "    writing_prompt = f\"\"\"As a professional writer, create an executive report based on:\n",
    "\n",
    "Task: {task}\n",
    "\n",
    "Research Findings:\n",
    "{research_data[:1000]}\n",
    "\n",
    "Analysis:\n",
    "{analysis[:1000]}\n",
    "\n",
    "Create a well-structured report with:\n",
    "1. Executive Summary\n",
    "2. Key Findings  \n",
    "3. Analysis & Insights\n",
    "4. Recommendations\n",
    "5. Conclusion\n",
    "\n",
    "Keep it professional and concise.\"\"\"\n",
    "    \n",
    "    # Get report from LLM\n",
    "    report_response = llm.invoke([HumanMessage(content=writing_prompt)])\n",
    "    report = report_response.content\n",
    "    \n",
    "    # Create final formatted report\n",
    "    final_report = f\"\"\"\n",
    "📄 FINAL REPORT\n",
    "{'='*50}\n",
    "Generated: {datetime.now().strftime('%Y-%m-%d %H:%M')}\n",
    "Topic: {task}\n",
    "{'='*50}\n",
    "\n",
    "{report}\n",
    "\n",
    "{'='*50}\n",
    "Report compiled by Multi-Agent AI System powered by Groq\n",
    "\"\"\"\n",
    "    \n",
    "    return {\n",
    "        \"messages\": [AIMessage(content=f\"✍️ Writer: Report complete! See below for the full document.\")],\n",
    "        \"final_report\": final_report,\n",
    "        \"next_agent\": \"supervisor\",\n",
    "        \"task_complete\": True\n",
    "    }"
   ]
  },
  {
   "cell_type": "code",
   "execution_count": 19,
   "id": "6a6487fe",
   "metadata": {},
   "outputs": [],
   "source": [
    "# Router Function\n",
    "\n",
    "def router(state: SupervisorState) -> Literal[\"supervisor\", \"researcher\", \"analyst\", \"writer\", \"__end__\"]:\n",
    "    \"\"\"Routes to next agent based on state\"\"\"\n",
    "    \n",
    "    next_agent = state.get(\"next_agent\", \"supervisor\")\n",
    "    \n",
    "    if next_agent == \"end\" or state.get(\"task_complete\", False):\n",
    "        return END\n",
    "        \n",
    "    if next_agent in [\"supervisor\", \"researcher\", \"analyst\", \"writer\"]:\n",
    "        return next_agent\n",
    "        \n",
    "    return \"supervisor\""
   ]
  },
  {
   "cell_type": "code",
   "execution_count": 20,
   "id": "79568a8a",
   "metadata": {},
   "outputs": [],
   "source": [
    "workflow = StateGraph(SupervisorState)\n",
    "\n",
    "# Add nodes\n",
    "workflow.add_node(\"supervisor\", supervisor_agent)\n",
    "workflow.add_node(\"researcher\", researcher_agent)\n",
    "workflow.add_node(\"analyst\", analyst_agent)\n",
    "workflow.add_node(\"writer\", writer_agent)\n",
    "\n",
    "# Set entry point\n",
    "workflow.set_entry_point(\"supervisor\")\n",
    "\n",
    "# Add routing\n",
    "for node in [\"supervisor\", \"researcher\", \"analyst\", \"writer\"]:\n",
    "    workflow.add_conditional_edges(\n",
    "        node,\n",
    "        router,\n",
    "        {\n",
    "            \"supervisor\": \"supervisor\",\n",
    "            \"researcher\": \"researcher\",\n",
    "            \"analyst\": \"analyst\",\n",
    "            \"writer\": \"writer\",\n",
    "            END: END\n",
    "        }\n",
    "    )\n",
    "\n",
    "graph=workflow.compile()"
   ]
  },
  {
   "cell_type": "code",
   "execution_count": 21,
   "id": "f65849dc",
   "metadata": {},
   "outputs": [
    {
     "data": {
      "image/png": "[encoded data removed]",
      "text/plain": [
       "<langgraph.graph.state.CompiledStateGraph object at 0x109f75310>"
      ]
     },
     "execution_count": 21,
     "metadata": {},
     "output_type": "execute_result"
    }
   ],
   "source": [
    "graph"
   ]
  },
  {
   "cell_type": "code",
   "execution_count": 22,
   "id": "79af5160",
   "metadata": {},
   "outputs": [
    {
     "name": "stdout",
     "output_type": "stream",
     "text": [
      "researcher\n",
      "analyst\n",
      "writer\n"
     ]
    }
   ],
   "source": [
    "response=graph.invoke(HumanMessage(content=\"What are the benefits and risks of AI in healthcare?\"))"
   ]
  },
  {
   "cell_type": "code",
   "execution_count": 23,
   "id": "1f70c8c3",
   "metadata": {},
   "outputs": [
    {
     "data": {
      "text/plain": [
       "'\\n📄 FINAL REPORT\\n==================================================\\nGenerated: 2025-09-15 13:24\\nTopic: 📊 Analyst: I\\'ve completed the analysis.\\n\\nTop insights:\\n**Key Insights and Patterns:**\\n\\n1. **Growing acceptance of doing nothing**: The rise of the gig economy, remote work, emphasis on work-life balance, and growing awareness of mental health and stress reduction contribute to a greater acceptance of taking breaks or engaging in leisure activities without a specific task.\\n2. **Benefits of doing nothing**: Research highlights the benefits of doing noth...\\n==================================================\\n\\n**Executive Report: The Value of Doing Nothing**\\n\\n**Date:** September 15, 2024\\n\\n**Analyst:** [Your Name]\\n\\n**Introduction:**\\nThe concept of doing nothing has traditionally been viewed as a lack of productivity or purpose. However, our analysis reveals that embracing the idea of doing nothing can bring numerous benefits, from relaxation and rejuvenation to improved productivity and job satisfaction.\\n\\n**Executive Summary:**\\n\\nOur analysis highlights the growing acceptance of doing nothing, driven by the rise of the gig economy, remote work, and emphasis on work-life balance. We found that doing nothing can have a positive impact on mental health, stress reduction, and overall well-being. The value of doing nothing varies depending on the context, but its benefits are undeniable. This report outlines our key findings, analysis, and strategic implications for organizations.\\n\\n**Key Findings:**\\n\\n1. **Growing acceptance of doing nothing**: The gig economy, remote work, and emphasis on work-life balance contribute to a greater acceptance of taking breaks or engaging in leisure activities without a specific task.\\n2. **Benefits of doing nothing**: Research highlights the benefits of doing nothing, including relaxation, rejuvenation, creativity, improved productivity, and job satisfaction.\\n3. **Context-dependent nature of doing nothing**: The value of doing nothing varies depending on the context, such as in a task-oriented setting or a leisure setting.\\n4. **Cross-disciplinary relevance**: The concept of \"nothing\" is fundamental to various fields, including philosophy, mathematics, and physics.\\n\\n**Analysis & Insights:**\\n\\nOur analysis reveals that the growing acceptance of doing nothing is driven by a shift in societal values, emphasizing work-life balance, self-care, and mental health. The benefits of doing nothing are multifaceted, including:\\n\\n* Relaxation and rejuvenation\\n* Improved productivity and job satisfaction\\n* Enhanced creativity and problem-solving skills\\n* Better mental health and stress reduction\\n\\n**Recommendations:**\\n\\n1. **Emphasize work-life balance**: Organizations should prioritize work-life balance by allowing flexible work arrangements, providing mental health resources, and promoting self-care.\\n2. **Foster a culture of doing nothing**: Encourage employees to take breaks, engage in leisure activities, and prioritize relaxation and rejuvenation.\\n3. **Monitor and evaluate the impact of doing nothing**: Regularly assess the effects of doing nothing on employee well-being, productivity, and job satisfaction.\\n\\n**Conclusion:**\\nOur analysis highlights the value of doing nothing, a concept that is increasingly accepted in today\\'s work environment. By embracing the idea of doing nothing, organizations can promote employee well-being, improve productivity, and foster a positive work culture. We recommend that organizations prioritize work-life balance, foster a culture of doing nothing, and monitor its impact on employee outcomes.\\n\\n==================================================\\nReport compiled by Multi-Agent AI System powered by Groq\\n'"
      ]
     },
     "execution_count": 23,
     "metadata": {},
     "output_type": "execute_result"
    }
   ],
   "source": [
    "response['final_report']"
   ]
  },
  {
   "cell_type": "code",
   "execution_count": null,
   "id": "624025af",
   "metadata": {},
   "outputs": [],
   "source": []
  },
  {
   "cell_type": "code",
   "execution_count": null,
   "id": "7c199f16",
   "metadata": {},
   "outputs": [],
   "source": []
  }
 ],
 "metadata": {
  "kernelspec": {
   "display_name": "AgenticAI",
   "language": "python",
   "name": "python3"
  },
  "language_info": {
   "codemirror_mode": {
    "name": "ipython",
    "version": 3
   },
   "file_extension": ".py",
   "mimetype": "text/x-python",
   "name": "python",
   "nbconvert_exporter": "python",
   "pygments_lexer": "ipython3",
   "version": "3.13.5"
  }
 },
 "nbformat": 4,
 "nbformat_minor": 5
}
